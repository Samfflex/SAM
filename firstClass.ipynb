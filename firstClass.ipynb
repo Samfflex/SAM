{
 "cells": [
  {
   "cell_type": "code",
   "execution_count": 4,
   "id": "9db44d4d",
   "metadata": {
    "scrolled": true
   },
   "outputs": [
    {
     "name": "stdout",
     "output_type": "stream",
     "text": [
      "10\n"
     ]
    }
   ],
   "source": [
    "sam = 10\n",
    "print (sam)"
   ]
  },
  {
   "cell_type": "markdown",
   "id": "16452fc0",
   "metadata": {},
   "source": []
  },
  {
   "cell_type": "code",
   "execution_count": 5,
   "id": "382368e6",
   "metadata": {},
   "outputs": [
    {
     "name": "stdout",
     "output_type": "stream",
     "text": [
      "my name sam\n"
     ]
    }
   ],
   "source": [
    "name = \"my name sam\"\n",
    "print (name)"
   ]
  },
  {
   "cell_type": "code",
   "execution_count": 6,
   "id": "821cc6bc",
   "metadata": {},
   "outputs": [
    {
     "name": "stdout",
     "output_type": "stream",
     "text": [
      "60\n"
     ]
    }
   ],
   "source": [
    "firstvariable = 40\n",
    "secondvariable =20 \n",
    "sum = firstvariable + secondvariable \n",
    "print (sum) "
   ]
  },
  {
   "cell_type": "code",
   "execution_count": 7,
   "id": "c62714e8",
   "metadata": {},
   "outputs": [
    {
     "name": "stdout",
     "output_type": "stream",
     "text": [
      "800\n"
     ]
    }
   ],
   "source": [
    "multiplication = firstvariable * secondvariable\n",
    "print (multiplication)"
   ]
  },
  {
   "cell_type": "code",
   "execution_count": 8,
   "id": "c5e1b9c5",
   "metadata": {},
   "outputs": [
    {
     "name": "stdout",
     "output_type": "stream",
     "text": [
      "2.0\n"
     ]
    }
   ],
   "source": [
    "div = firstvariable / secondvariable \n",
    "print (div) v"
   ]
  },
  {
   "cell_type": "code",
   "execution_count": 9,
   "id": "e0904766",
   "metadata": {},
   "outputs": [
    {
     "name": "stdout",
     "output_type": "stream",
     "text": [
      "0\n"
     ]
    }
   ],
   "source": [
    "mode = firstvariable % secondvariable \n",
    "print (mode)"
   ]
  },
  {
   "cell_type": "code",
   "execution_count": 10,
   "id": "6cdf3e95",
   "metadata": {},
   "outputs": [
    {
     "data": {
      "text/plain": [
       "'my name is sam'"
      ]
     },
     "execution_count": 10,
     "metadata": {},
     "output_type": "execute_result"
    }
   ],
   "source": [
    "def firstvariable (first, second):\n",
    "    return first + second \n",
    "firstvariable(\"my name is \", \"sam\")\n"
   ]
  },
  {
   "cell_type": "code",
   "execution_count": null,
   "id": "6d42c1d4",
   "metadata": {},
   "outputs": [],
   "source": []
  },
  {
   "cell_type": "code",
   "execution_count": null,
   "id": "b36142cb",
   "metadata": {},
   "outputs": [],
   "source": []
  }
 ],
 "metadata": {
  "kernelspec": {
   "display_name": "Python 3 (ipykernel)",
   "language": "python",
   "name": "python3"
  },
  "language_info": {
   "codemirror_mode": {
    "name": "ipython",
    "version": 3
   },
   "file_extension": ".py",
   "mimetype": "text/x-python",
   "name": "python",
   "nbconvert_exporter": "python",
   "pygments_lexer": "ipython3",
   "version": "3.11.4"
  }
 },
 "nbformat": 4,
 "nbformat_minor": 5
}
